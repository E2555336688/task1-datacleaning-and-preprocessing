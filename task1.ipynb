{
  "nbformat": 4,
  "nbformat_minor": 0,
  "metadata": {
    "colab": {
      "private_outputs": true,
      "provenance": []
    },
    "kernelspec": {
      "name": "python3",
      "display_name": "Python 3"
    },
    "language_info": {
      "name": "python"
    }
  },
  "cells": [
    {
      "cell_type": "code",
      "execution_count": null,
      "metadata": {
        "collapsed": true,
        "id": "B7vt_4hc_xFE"
      },
      "outputs": [],
      "source": [
        "import pandas as pd\n",
        "df = pd.read_csv('/content/KaggleV2-May-2016.csv')\n",
        "df.info()"
      ]
    },
    {
      "cell_type": "code",
      "source": [
        "print(df.to_string())"
      ],
      "metadata": {
        "collapsed": true,
        "id": "1SdeOqXHn6L2"
      },
      "execution_count": null,
      "outputs": []
    },
    {
      "cell_type": "code",
      "source": [
        "df.index = df.index + 1\n",
        "df.index.name = 'SI No.'\n",
        "#print(df)"
      ],
      "metadata": {
        "id": "llX3lcLLKshL"
      },
      "execution_count": null,
      "outputs": []
    },
    {
      "cell_type": "code",
      "source": [
        "#find missing values and count number of missing values\n",
        "print(df.isnull())\n",
        "print(df.isnull().sum())\n",
        "# no null values present"
      ],
      "metadata": {
        "collapsed": true,
        "id": "oVcFoCeaLf2n"
      },
      "execution_count": null,
      "outputs": []
    },
    {
      "cell_type": "code",
      "source": [
        "#find duplicates and count number of duplicates in dataset\n",
        "print(df.duplicated)\n",
        "print(df.duplicated().sum())\n",
        "#no duplicate values present"
      ],
      "metadata": {
        "collapsed": true,
        "id": "26TX8z8CRLTI"
      },
      "execution_count": null,
      "outputs": []
    },
    {
      "cell_type": "code",
      "source": [
        "df['ScheduledDay'] = pd.to_datetime(df['ScheduledDay'])\n",
        "df['AppointmentDay'] = pd.to_datetime(df['AppointmentDay'])"
      ],
      "metadata": {
        "collapsed": true,
        "id": "6GCXnDvuLuFd"
      },
      "execution_count": null,
      "outputs": []
    },
    {
      "cell_type": "code",
      "source": [
        "df['ScheduledDay'] = df['ScheduledDay'].dt.strftime('%d-%m-%Y %H:%M:%S')\n",
        "df['AppointmentDay'] = df['AppointmentDay'].dt.strftime('%d-%m-%Y %H:%M:%S')\n",
        "print(df['ScheduledDay'])\n",
        "print(df['AppointmentDay'])"
      ],
      "metadata": {
        "collapsed": true,
        "id": "VM0ozBcrvOK1"
      },
      "execution_count": null,
      "outputs": []
    },
    {
      "cell_type": "code",
      "source": [
        "df['ScheduledDay'] = pd.to_datetime(df['ScheduledDay'], format='%d-%m-%Y %H:%M:%S')\n",
        "df['AppointmentDay'] = pd.to_datetime(df['AppointmentDay'], format='%d-%m-%Y %H:%M:%S')\n",
        "df['Gender'] = df['Gender'].astype('category')\n"
      ],
      "metadata": {
        "id": "ppnovdEVNmf7"
      },
      "execution_count": null,
      "outputs": []
    },
    {
      "cell_type": "code",
      "source": [
        "print(df.dtypes)"
      ],
      "metadata": {
        "id": "BRwI0WKlQHGn"
      },
      "execution_count": null,
      "outputs": []
    },
    {
      "cell_type": "code",
      "source": [
        "print(df['AppointmentDay'].value_counts())"
      ],
      "metadata": {
        "id": "aaNpF4LqRdan"
      },
      "execution_count": null,
      "outputs": []
    },
    {
      "cell_type": "code",
      "source": [
        "print(df['Neighbourhood'].value_counts())"
      ],
      "metadata": {
        "id": "qkwg0FHveJcz"
      },
      "execution_count": null,
      "outputs": []
    },
    {
      "cell_type": "code",
      "source": [
        "print(df['Gender'].value_counts())\n",
        "print(df['Hipertension'].value_counts())\n",
        "print(df['SMS_received'].value_counts())\n",
        "print(df['No-show'].value_counts())\n",
        "print(df['Scholarship'].value_counts())"
      ],
      "metadata": {
        "id": "LMWeMU3ceXzE"
      },
      "execution_count": null,
      "outputs": []
    }
  ]
}